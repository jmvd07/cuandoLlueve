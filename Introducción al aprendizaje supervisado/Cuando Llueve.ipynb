{
 "cells": [
  {
   "cell_type": "markdown",
   "metadata": {},
   "source": [
    "## Introducción al aprendizaje supervisado"
   ]
  },
  {
   "cell_type": "markdown",
   "metadata": {},
   "source": [
    "### Actividades:"
   ]
  },
  {
   "cell_type": "markdown",
   "metadata": {},
   "source": [
    "#### Dataset rain_teodelina"
   ]
  },
  {
   "cell_type": "markdown",
   "metadata": {},
   "source": [
    "1) agregar features que aporten valor al dataset  \n",
    "\n",
    "2) Analizar features data / target \n",
    "\n",
    "3) dividir dataset (training, validation, test)    \n",
    "\n",
    "4) analizar y elegir el modelo mas apropiado, entrenarlo y analizar resultados  \n",
    "\n",
    "5) combinar clasificadores y analizar resultados  \n",
    "\n",
    "6) evaluar predicciones de los diferentes modelos  "
   ]
  },
  {
   "cell_type": "markdown",
   "metadata": {},
   "source": [
    "#### Dataset: rain_junin"
   ]
  },
  {
   "cell_type": "markdown",
   "metadata": {},
   "source": [
    "1) Aplicar tecnicas de selección y extraccion de features  \n",
    "\n",
    "2) Analizar features data / target \n",
    "\n",
    "3) dividir dataset (training, validation, test)  \n",
    "\n",
    "4) analizar y elegir el modelo mas apropiado, entrenarlo y analizar resultados\n",
    "\n",
    "5) combinar clasificadores y analizar resultados  \n",
    "\n",
    "6) evaluar predicciones de los diferentes modelos  "
   ]
  },
  {
   "cell_type": "markdown",
   "metadata": {},
   "source": [
    "#### Combinacion de datasets"
   ]
  },
  {
   "cell_type": "markdown",
   "metadata": {},
   "source": [
    "1) Combinar ambos datasets a partir de features comunes a ambos\n",
    "\n",
    "2) Validar la correcctitud de los datos fusionados\n",
    "\n",
    "3) Aplicar tecnicas de selección y extraccion de features  \n",
    "\n",
    "4) Analizar features data / target \n",
    "\n",
    "5) dividir dataset (training, validation, test)  \n",
    "\n",
    "6) analizar y elegir el modelo mas apropiado, entrenarlo y analizar resultados\n"
   ]
  }
 ],
 "metadata": {
  "kernelspec": {
   "display_name": "Python 3",
   "language": "python",
   "name": "python3"
  },
  "language_info": {
   "codemirror_mode": {
    "name": "ipython",
    "version": 3
   },
   "file_extension": ".py",
   "mimetype": "text/x-python",
   "name": "python",
   "nbconvert_exporter": "python",
   "pygments_lexer": "ipython3",
   "version": "3.7.2"
  }
 },
 "nbformat": 4,
 "nbformat_minor": 2
}
